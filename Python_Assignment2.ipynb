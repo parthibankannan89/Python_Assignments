{
 "cells": [
  {
   "cell_type": "markdown",
   "id": "42cc38a7",
   "metadata": {},
   "source": [
    "#### Assignment 2"
   ]
  },
  {
   "cell_type": "markdown",
   "id": "088ec89b",
   "metadata": {},
   "source": [
    "1.What are the two values of the Boolean data type? How do you write them?\n",
    "\n",
    "Answer: 'True' and 'False are the two values of the Boolean datatype. the correct way to write them is True and False (Strictly first letter of each word should be capitalized)"
   ]
  },
  {
   "cell_type": "markdown",
   "id": "6819c817",
   "metadata": {},
   "source": [
    "2. What are the three different types of Boolean operators?\n",
    "\n",
    "Answer: 'and', 'or' and 'not' are the three types of boolean operators. 'and' can also represented as '&', 'or' shall also be represented as '|' and 'not' can be also be written as '!'"
   ]
  },
  {
   "cell_type": "markdown",
   "id": "0d62735d",
   "metadata": {},
   "source": [
    "3. Make a list of each Boolean operator's truth tables (i.e. every possible combination of Boolean\n",
    "values for the operator and what it evaluate ).\n",
    "\n",
    "Answer:\n",
    "\n",
    "'AND' truth table\n",
    "\n",
    "True and True = True,\n",
    "False and False = False,\n",
    "False and True = False,\n",
    "False and False = False,\n",
    "\n",
    "'OR' truth table\n",
    "\n",
    "True or True = True,\n",
    "True or False = True,\n",
    "False or True = True,\n",
    "False or False = False,\n",
    "\n",
    "'Not' truth table\n",
    "\n",
    "not True = False,\n",
    "not False = True.\n",
    "\n"
   ]
  },
  {
   "cell_type": "raw",
   "id": "56859db1",
   "metadata": {},
   "source": [
    "4. What are the values of the following expressions?\n",
    "(5 & 4) and (3 == 5) => answer: False\n",
    "not (5 > 4) => answer: False\n",
    "(5 > 4) or (3 == 5) => answer: True\n",
    "not ((5 > 4) or (3 == 5)) => answer: False\n",
    "(True and True) and (True == False) => answer: False\n",
    "(not False) or (not True) => answer: True"
   ]
  },
  {
   "cell_type": "raw",
   "id": "d907998f",
   "metadata": {},
   "source": [
    "5. What are the six comparison operators?\n",
    "\n",
    "Answer:\n",
    "\n",
    "== - is equal to\n",
    "!= - not equal to\n",
    "> - greater than\n",
    "< - lesser than\n",
    ">= - greater than or equal to\n",
    "<= - lesser than or equal to"
   ]
  },
  {
   "cell_type": "raw",
   "id": "11d499cf",
   "metadata": {},
   "source": [
    "6. How do you tell the difference between the equal to and assignment operators?Describe a\n",
    "condition and when you would use one.\n",
    "\n",
    "Answer: an assignment operator will have only one 'equal' symbol '='. whereas, an 'is equal to' will have two 'equal' symbol one after the other '=='\n",
    "\n",
    "Scenario where they can be differentiated when used, consider the below code snippet:\n",
    "\n",
    "a= 10  [in this line of code, value 10 is being assigned to the variable 'a']\n",
    "\n",
    "if a == 10: [here, we are performing a check if a is equal to 10]\n",
    "    print(\"Value 10\")\n",
    "    "
   ]
  },
  {
   "cell_type": "code",
   "execution_count": 16,
   "id": "58c2f0bd",
   "metadata": {},
   "outputs": [
    {
     "name": "stdout",
     "output_type": "stream",
     "text": [
      "ham\n",
      "spam\n",
      "spam\n"
     ]
    }
   ],
   "source": [
    "# 7. Identify the three blocks in this code\n",
    "\n",
    "spam = 0 #block1\n",
    "if spam == 10: #block2\n",
    "    print('eggs')\n",
    "if spam > 5:\n",
    "    print('bacon')\n",
    "else: #block3\n",
    "    print('ham')\n",
    "    print('spam')\n",
    "    print('spam')"
   ]
  },
  {
   "cell_type": "code",
   "execution_count": 24,
   "id": "c2f37eba",
   "metadata": {},
   "outputs": [
    {
     "name": "stdout",
     "output_type": "stream",
     "text": [
      "Greetings\n"
     ]
    }
   ],
   "source": [
    "'''8. Write code that prints Hello if 1 is stored in spam, prints Howdy if 2 is stored in spam, and prints\n",
    "Greetings! if anything else is stored in spam.'''\n",
    "\n",
    "\n",
    "spam = 234234\n",
    "\n",
    "if spam == 1:\n",
    "    print('Hello')\n",
    "elif spam == 2:\n",
    "    print('Howdy')\n",
    "else:\n",
    "    print('Greetings')"
   ]
  },
  {
   "cell_type": "raw",
   "id": "5f2a722e",
   "metadata": {},
   "source": [
    "9.If your programme is stuck in an endless loop, what keys you’ll press?\n",
    "\n",
    "Answer: CTRL + C"
   ]
  },
  {
   "cell_type": "raw",
   "id": "90c9cd94",
   "metadata": {},
   "source": [
    "10. How can you tell the difference between break and continue?\n",
    "\n",
    "Answer:\n",
    "\n",
    "Both 'break' and 'continue' statements are used with loops. the main difference between them are that when a 'break' statement is triggered the code will come out of the loop without executing the rest of the code in the loop whereas when a 'continue' statement is triggered, the code execution will skip the code when a certain condition is met in that specific iteration.\n",
    "\n",
    "'Break' example\n",
    "\n",
    "for i in range(0,10):\n",
    "    if i == 5:\n",
    "        break\n",
    "    else:\n",
    "        print(i) \n",
    "        \n",
    "In the above code, the for loop will not be exited until the value of 'i' is triggered as 5. so, the output here would be: 0,1,2,3,4\n",
    "\n",
    "'continue' example\n",
    "\n",
    "for i in range(0,10):\n",
    "    if i==5:\n",
    "        continue\n",
    "    else:\n",
    "        print(i) \n",
    "        \n",
    "here the for loop will be executed when i is from 0 to 9 but will skip code when the iteration is triggered with i=5\n",
    "\n",
    "output for this code snippet will be: 0,1,2,3,4,6,7,8,9"
   ]
  },
  {
   "cell_type": "markdown",
   "id": "0ab15e22",
   "metadata": {},
   "source": [
    "11. In a for loop, what is the difference between range(10), range(0, 10), and range(0, 10, 1)?\n",
    "\n",
    "Answer: all the three code will generate the same output"
   ]
  },
  {
   "cell_type": "code",
   "execution_count": 35,
   "id": "404e3051",
   "metadata": {},
   "outputs": [
    {
     "name": "stdout",
     "output_type": "stream",
     "text": [
      "1\n",
      "2\n",
      "3\n",
      "4\n",
      "5\n",
      "6\n",
      "7\n",
      "8\n",
      "9\n",
      "10\n"
     ]
    }
   ],
   "source": [
    "'''12. Write a short program that prints the numbers 1 to 10 using a for loop. Then write an equivalent\n",
    "program that prints the numbers 1 to 10 using a while loop.'''\n",
    "\n",
    "# Using 'for' loop\n",
    "\n",
    "for i in range(1,11):\n",
    "    print(i)\n",
    "    "
   ]
  },
  {
   "cell_type": "code",
   "execution_count": 51,
   "id": "e436bcf3",
   "metadata": {},
   "outputs": [
    {
     "name": "stdout",
     "output_type": "stream",
     "text": [
      "1\n",
      "2\n",
      "3\n",
      "4\n",
      "5\n",
      "6\n",
      "7\n",
      "8\n",
      "9\n",
      "10\n"
     ]
    }
   ],
   "source": [
    "# Using 'While' loop\n",
    "\n",
    "a=1\n",
    "\n",
    "while a <= 10:\n",
    "    print(a)\n",
    "    a+=1"
   ]
  },
  {
   "cell_type": "markdown",
   "id": "02243783",
   "metadata": {},
   "source": [
    "13. If you had a function named bacon() inside a module named spam, how would you call it after\n",
    "importing spam?\n",
    "\n",
    "Answer: spam.bacon()\n",
    "\n"
   ]
  }
 ],
 "metadata": {
  "kernelspec": {
   "display_name": "Python 3.7.7 64-bit",
   "language": "python",
   "name": "python37764bit149ec0208c73408c880183909fd52498"
  },
  "language_info": {
   "codemirror_mode": {
    "name": "ipython",
    "version": 3
   },
   "file_extension": ".py",
   "mimetype": "text/x-python",
   "name": "python",
   "nbconvert_exporter": "python",
   "pygments_lexer": "ipython3",
   "version": "3.7.7"
  }
 },
 "nbformat": 4,
 "nbformat_minor": 5
}
