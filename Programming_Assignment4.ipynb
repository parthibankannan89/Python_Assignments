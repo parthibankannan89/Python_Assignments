{
 "cells": [
  {
   "cell_type": "code",
   "execution_count": 18,
   "id": "712922ec",
   "metadata": {},
   "outputs": [],
   "source": [
    "# 1. Write a Python Program to Find the Factorial of a Number?\n",
    "\n",
    "def factorial(x):\n",
    "    a=1\n",
    "    for i in range(1,x+1):\n",
    "        a=a*i\n",
    "#         print(a)\n",
    "    return a\n"
   ]
  },
  {
   "cell_type": "code",
   "execution_count": 21,
   "id": "0d9c3ed1",
   "metadata": {},
   "outputs": [
    {
     "data": {
      "text/plain": [
       "5040"
      ]
     },
     "execution_count": 21,
     "metadata": {},
     "output_type": "execute_result"
    }
   ],
   "source": [
    "factorial(7)"
   ]
  },
  {
   "cell_type": "code",
   "execution_count": 45,
   "id": "cfaf9b89",
   "metadata": {},
   "outputs": [],
   "source": [
    "# 2. Write a Python Program to Display the multiplication Table?\n",
    "\n",
    "def multiplication_table(a,b):\n",
    "    # a is the multiplicand and b is the multiplier\n",
    "    print('Multiples of '+str(a))\n",
    "    print('*********************')\n",
    "    for i in range(1,b+1):\n",
    "        print(str(a)+'*'+str(i)+'='+ str(a * i))\n",
    "        continue"
   ]
  },
  {
   "cell_type": "code",
   "execution_count": 47,
   "id": "b7785b59",
   "metadata": {
    "scrolled": false
   },
   "outputs": [
    {
     "name": "stdout",
     "output_type": "stream",
     "text": [
      "Multiples of 13\n",
      "*********************\n",
      "13*1=13\n",
      "13*2=26\n",
      "13*3=39\n",
      "13*4=52\n",
      "13*5=65\n",
      "13*6=78\n",
      "13*7=91\n",
      "13*8=104\n",
      "13*9=117\n",
      "13*10=130\n",
      "13*11=143\n",
      "13*12=156\n",
      "13*13=169\n",
      "13*14=182\n",
      "13*15=195\n",
      "13*16=208\n",
      "13*17=221\n",
      "13*18=234\n",
      "13*19=247\n",
      "13*20=260\n",
      "13*21=273\n",
      "13*22=286\n",
      "13*23=299\n",
      "13*24=312\n",
      "13*25=325\n",
      "13*26=338\n",
      "13*27=351\n",
      "13*28=364\n",
      "13*29=377\n",
      "13*30=390\n",
      "13*31=403\n",
      "13*32=416\n",
      "13*33=429\n",
      "13*34=442\n",
      "13*35=455\n",
      "13*36=468\n",
      "13*37=481\n",
      "13*38=494\n",
      "13*39=507\n",
      "13*40=520\n",
      "13*41=533\n",
      "13*42=546\n",
      "13*43=559\n",
      "13*44=572\n",
      "13*45=585\n",
      "13*46=598\n",
      "13*47=611\n",
      "13*48=624\n",
      "13*49=637\n",
      "13*50=650\n"
     ]
    }
   ],
   "source": [
    "multiplication_table(13,50)"
   ]
  },
  {
   "cell_type": "code",
   "execution_count": 65,
   "id": "fdea1528",
   "metadata": {},
   "outputs": [],
   "source": [
    "# 3. Write a Python Program to Print the Fibonacci sequence?\n",
    "\n",
    "def fibonacci(x):\n",
    "    a,b=0,1\n",
    "    print(a)\n",
    "    print(b)\n",
    "    for i in range(2,x):\n",
    "        c=a+b #Iteration 1 => c=0+1 ,Iteration 2 => c=1+1\n",
    "        a=b   #Iteration 1 => a=1  ,Iteration 2 => a=1\n",
    "        b=c   #Iteration 1 => b=1  ,Iteration 2 => c=2\n",
    "        print(c)\n",
    "        "
   ]
  },
  {
   "cell_type": "code",
   "execution_count": 66,
   "id": "6f9db103",
   "metadata": {
    "scrolled": false
   },
   "outputs": [
    {
     "name": "stdout",
     "output_type": "stream",
     "text": [
      "0\n",
      "1\n",
      "1\n",
      "2\n",
      "3\n",
      "5\n",
      "8\n",
      "13\n",
      "21\n",
      "34\n",
      "55\n",
      "89\n",
      "144\n",
      "233\n",
      "377\n"
     ]
    }
   ],
   "source": [
    "fibonacci(15)"
   ]
  },
  {
   "cell_type": "code",
   "execution_count": 32,
   "id": "ac75f29d",
   "metadata": {},
   "outputs": [],
   "source": [
    "# 4. Write a Python Program to Check Armstrong Number?\n",
    "\n",
    "def armstrong_not(x):\n",
    "    a=x\n",
    "    sum=0\n",
    "    while a > 0:\n",
    "        d= a % 10\n",
    "#         print(d)\n",
    "        sum += d ** 3\n",
    "#         print(sum)\n",
    "        a //=10\n",
    "    \n",
    "    if x == sum:\n",
    "       print(x,\"is an Armstrong number\")\n",
    "    else:\n",
    "       print(x,\"is not an Armstrong number\")\n",
    "        "
   ]
  },
  {
   "cell_type": "code",
   "execution_count": 42,
   "id": "ae8ef69d",
   "metadata": {
    "scrolled": false
   },
   "outputs": [
    {
     "name": "stdout",
     "output_type": "stream",
     "text": [
      "407 is an Armstrong number\n"
     ]
    }
   ],
   "source": [
    "armstrong_not(407)"
   ]
  },
  {
   "cell_type": "code",
   "execution_count": 61,
   "id": "1c3f5879",
   "metadata": {},
   "outputs": [],
   "source": [
    "# 5. Write a Python Program to Find Armstrong Number in an Interval?\n",
    "\n",
    "def armstrong_numbers(x,y):\n",
    "    if x > y:\n",
    "        return 'lower limit cannot be bigger than the upper limit'\n",
    "    else:\n",
    "        for i in range(x,y):\n",
    "            a=i\n",
    "            sum=0\n",
    "            while a > 0:\n",
    "                d = a % 10\n",
    "                sum += d ** 3\n",
    "                a //=10\n",
    "            if i == sum:\n",
    "                print(i)\n",
    "            else:\n",
    "                continue\n",
    "                "
   ]
  },
  {
   "cell_type": "code",
   "execution_count": 63,
   "id": "7dd2f04f",
   "metadata": {},
   "outputs": [
    {
     "name": "stdout",
     "output_type": "stream",
     "text": [
      "1\n",
      "153\n",
      "370\n",
      "371\n",
      "407\n"
     ]
    }
   ],
   "source": [
    "armstrong_numbers(1,500)"
   ]
  },
  {
   "cell_type": "code",
   "execution_count": 75,
   "id": "c08bb6aa",
   "metadata": {},
   "outputs": [],
   "source": [
    "# 6. Write a Python Program to Find the Sum of Natural Numbers?\n",
    "\n",
    "def sum_natnumbers(n):\n",
    "    sum=0\n",
    "    for i in range(1,n+1):\n",
    "        sum+=i\n",
    "#         print(i,sum)\n",
    "    return sum    "
   ]
  },
  {
   "cell_type": "code",
   "execution_count": 76,
   "id": "78bdb770",
   "metadata": {},
   "outputs": [
    {
     "data": {
      "text/plain": [
       "5050"
      ]
     },
     "execution_count": 76,
     "metadata": {},
     "output_type": "execute_result"
    }
   ],
   "source": [
    "sum_natnumbers(100)"
   ]
  }
 ],
 "metadata": {
  "kernelspec": {
   "display_name": "Python 3.7.7 64-bit",
   "language": "python",
   "name": "python37764bit149ec0208c73408c880183909fd52498"
  },
  "language_info": {
   "codemirror_mode": {
    "name": "ipython",
    "version": 3
   },
   "file_extension": ".py",
   "mimetype": "text/x-python",
   "name": "python",
   "nbconvert_exporter": "python",
   "pygments_lexer": "ipython3",
   "version": "3.7.7"
  }
 },
 "nbformat": 4,
 "nbformat_minor": 5
}
