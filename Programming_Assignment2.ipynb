{
 "cells": [
  {
   "cell_type": "code",
   "execution_count": 8,
   "id": "e7237c55",
   "metadata": {},
   "outputs": [],
   "source": [
    "# 1. Write a Python program to convert kilometers to miles?\n",
    "\n",
    "def kilomtrs_to_miles(km):\n",
    "    return km / 1.609334"
   ]
  },
  {
   "cell_type": "code",
   "execution_count": 11,
   "id": "23e8096f",
   "metadata": {},
   "outputs": [
    {
     "data": {
      "text/plain": [
       "0.6213750532829108"
      ]
     },
     "execution_count": 11,
     "metadata": {},
     "output_type": "execute_result"
    }
   ],
   "source": [
    "kilomtrs_to_miles(1)"
   ]
  },
  {
   "cell_type": "code",
   "execution_count": 15,
   "id": "44436488",
   "metadata": {},
   "outputs": [],
   "source": [
    "# 2. Write a Python program to convert Celsius to Fahrenheit?\n",
    "\n",
    "def cel_to_fahn(c):\n",
    "    return (c * 9/5) + 32 "
   ]
  },
  {
   "cell_type": "code",
   "execution_count": 19,
   "id": "c3ac6d42",
   "metadata": {},
   "outputs": [
    {
     "data": {
      "text/plain": [
       "77.0"
      ]
     },
     "execution_count": 19,
     "metadata": {},
     "output_type": "execute_result"
    }
   ],
   "source": [
    "cel_to_fahn(25)"
   ]
  },
  {
   "cell_type": "code",
   "execution_count": 26,
   "id": "32a8b55f",
   "metadata": {},
   "outputs": [
    {
     "data": {
      "text/plain": [
       "'     June 2020\\nMo Tu We Th Fr Sa Su\\n 1  2  3  4  5  6  7\\n 8  9 10 11 12 13 14\\n15 16 17 18 19 20 21\\n22 23 24 25 26 27 28\\n29 30\\n'"
      ]
     },
     "execution_count": 26,
     "metadata": {},
     "output_type": "execute_result"
    }
   ],
   "source": [
    "# 3. Write a Python program to display calendar?\n",
    "\n",
    "import calendar\n",
    "\n",
    "calendar.month(2020,6)"
   ]
  },
  {
   "cell_type": "code",
   "execution_count": 28,
   "id": "ed66f9ce",
   "metadata": {},
   "outputs": [],
   "source": [
    "# 4. Write a Python program to solve quadratic equation?\n",
    "\n",
    "def quad_equ(a,b,c):\n",
    "    import math\n",
    "    x1= (-b + math.sqrt(b**2 - 4 * a * c))/2 * a\n",
    "    x2= (-b - math.sqrt(b**2 - 4 * a * c))/2 * a\n",
    "    \n",
    "    return x1,x2\n"
   ]
  },
  {
   "cell_type": "code",
   "execution_count": 30,
   "id": "93ec6f09",
   "metadata": {},
   "outputs": [
    {
     "data": {
      "text/plain": [
       "(-2.0, -3.0)"
      ]
     },
     "execution_count": 30,
     "metadata": {},
     "output_type": "execute_result"
    }
   ],
   "source": [
    "quad_equ(1,5,6)"
   ]
  },
  {
   "cell_type": "code",
   "execution_count": 31,
   "id": "f50aee07",
   "metadata": {},
   "outputs": [
    {
     "name": "stdout",
     "output_type": "stream",
     "text": [
      "Before swapping\n",
      "value of x is 10\n",
      "Value of y is 20\n",
      "After swapping\n",
      "Value of x is: 20\n",
      "Value of y is: 10\n"
     ]
    }
   ],
   "source": [
    "# 5. Write a Python program to swap two variables without temp variable?\n",
    "\n",
    "x,y=10,20\n",
    "print('Before swapping')\n",
    "print('value of x is',x)\n",
    "print('Value of y is',y)\n",
    "\n",
    "x,y=y,x\n",
    "\n",
    "print('After swapping')\n",
    "print('Value of x is:',x)\n",
    "print('Value of y is:',y)\n",
    "\n"
   ]
  }
 ],
 "metadata": {
  "kernelspec": {
   "display_name": "Python 3.7.7 64-bit",
   "language": "python",
   "name": "python37764bit149ec0208c73408c880183909fd52498"
  },
  "language_info": {
   "codemirror_mode": {
    "name": "ipython",
    "version": 3
   },
   "file_extension": ".py",
   "mimetype": "text/x-python",
   "name": "python",
   "nbconvert_exporter": "python",
   "pygments_lexer": "ipython3",
   "version": "3.7.7"
  }
 },
 "nbformat": 4,
 "nbformat_minor": 5
}
